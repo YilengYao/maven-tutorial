{
 "cells": [
  {
   "cell_type": "markdown",
   "metadata": {},
   "source": [
    "# Maven Project structure"
   ]
  },
  {
   "cell_type": "raw",
   "metadata": {},
   "source": [
    "root/\n",
    "│\n",
    "│\n",
    "└───src/\n",
    "│    | \n",
    "|    └───main/\n",
    "|    |     |\n",
    "│    |     └───java/\n",
    "|    |     |       \n",
    "|    |     └───resources/\n",
    "|    |     \n",
    "|    └───test/\n",
    "|          |\n",
    "│          └───java/\n",
    "|          |       \n",
    "|          └───resources/\n",
    "|         \n",
    "|\n",
    "└───pom.xml"
   ]
  },
  {
   "cell_type": "markdown",
   "metadata": {},
   "source": [
    "POM File\n",
    "- Project Object Model\n",
    "- Details of the project\n",
    "- Dependency definition\n",
    "- Build details\n",
    "- Reporting details\n",
    "\n",
    "Project Information\n",
    "- groupId\n",
    "- artifactId\n",
    "- Version\n",
    "\n",
    "Sections\n",
    "- Properties\n",
    "- Dependencies\n",
    "- Build\n",
    "- Report\n",
    "- Repositories\n",
    "- pluginRepositories\n",
    "- Profiles"
   ]
  },
  {
   "cell_type": "markdown",
   "metadata": {},
   "source": [
    "Properties Purpose\n",
    "- Reduce duplication\n",
    "- Streamlines configuration\n",
    "- Helps keeps items in sync\n",
    "- Aides upgrade"
   ]
  },
  {
   "cell_type": "markdown",
   "metadata": {},
   "source": [
    "## Reporting\n",
    "Surefire: plugin that provide test report and report on test coverage\n",
    "\n",
    "to generage report run this command"
   ]
  },
  {
   "cell_type": "raw",
   "metadata": {},
   "source": [
    "%%bash\n",
    "mvn clean package site "
   ]
  },
  {
   "cell_type": "markdown",
   "metadata": {},
   "source": [
    "Report is found in the target/site folder"
   ]
  },
  {
   "cell_type": "markdown",
   "metadata": {},
   "source": [
    "# Parent POM\n",
    "A parent POM is a POM file that is stand-alone, meaning that there is no code associated with it. That creates a list of dependency versions and plugin versions that the subordiante projects can leverage.\n",
    "\n",
    "That provides a way to control versions in one place so the subordinate prject don't have to specify the version, only the dependency.\n",
    "\n",
    "In addition to dependencies and plugin, parent POMs can provide properties and repositories.\n",
    "\n",
    "- Provided versioned dependencies and plugins\n",
    "- Properties and repositories\n",
    "- Top-level visibility for approved artifacts\n",
    "\n",
    "parent package type must be POM\n",
    "\n",
    "## Reactors\n",
    "Reactor builds on the concept of parent POM\n",
    "- reactor is used to build a group of related projects through the use of the parent POM.\n",
    "- Maven command are executed on the parent and the reactor executes the command on each module or artifact in the reactor in such a way \n",
    "\n",
    "## Structure"
   ]
  },
  {
   "cell_type": "raw",
   "metadata": {},
   "source": [
    "root/\n",
    "│\n",
    "│\n",
    "└───pom.xml\n",
    "│         \n",
    "|\n",
    "└───module/\n",
    "|        │\n",
    "|        └───pom.xml\n",
    "│         \n",
    "|\n",
    "└───module/\n",
    "|        │\n",
    "|        └───pom.xml\n",
    "|\n",
    "└───module/\n",
    "         │\n",
    "         └───pom.xml"
   ]
  }
 ],
 "metadata": {
  "kernelspec": {
   "display_name": "Java",
   "language": "java",
   "name": "java"
  },
  "language_info": {
   "codemirror_mode": "java",
   "file_extension": ".jshell",
   "mimetype": "text/x-java-source",
   "name": "Java",
   "pygments_lexer": "java",
   "version": "11.0.8+10-LTS"
  }
 },
 "nbformat": 4,
 "nbformat_minor": 2
}
