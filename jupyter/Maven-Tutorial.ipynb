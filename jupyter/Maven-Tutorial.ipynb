{
 "cells": [
  {
   "cell_type": "markdown",
   "metadata": {},
   "source": [
    "# Maven Project structure"
   ]
  },
  {
   "cell_type": "raw",
   "metadata": {},
   "source": [
    "root/\n",
    "│\n",
    "│\n",
    "└───src/\n",
    "│    | \n",
    "|    └───main/\n",
    "|    |     |\n",
    "│    |     └───java/\n",
    "|    |     |       \n",
    "|    |     └───resources/\n",
    "|    |     \n",
    "|    └───test/\n",
    "|          |\n",
    "│          └───java/\n",
    "|          |       \n",
    "|          └───resources/\n",
    "|         \n",
    "|\n",
    "└───pom.xml"
   ]
  },
  {
   "cell_type": "markdown",
   "metadata": {},
   "source": [
    "POM File\n",
    "- Project Object Model\n",
    "- Details of the project\n",
    "- Dependency definition\n",
    "- Build details\n",
    "- Reporting details\n",
    "\n",
    "MOJO: Maven old Java object, Each mojo is an executable goal in Maven, and a plugin is a distribution of one or more related mojos. In short, a mojo is a maven goal, to extend functionality not already found in maven.\n",
    "\n",
    "The directory of that runtime source code of your Maven project resides in src/main/java folder\n",
    "\n",
    "Project Information\n",
    "- groupId\n",
    "- artifactId\n",
    "- Version\n",
    "\n",
    "Sections\n",
    "- Properties\n",
    "- Dependencies\n",
    "- Build\n",
    "- Report\n",
    "- Repositories\n",
    "- pluginRepositories\n",
    "- Profiles\n",
    "\n",
    "Plugin of your artifacts are defined in the build section of your POM file.\n",
    "\n",
    "If your scope of your dependency is not specified, the scope defaults to compile."
   ]
  },
  {
   "cell_type": "markdown",
   "metadata": {},
   "source": [
    "Properties Purpose\n",
    "- Reduce duplication\n",
    "- Streamlines configuration\n",
    "- Helps keeps items in sync\n",
    "- Aides upgrade"
   ]
  },
  {
   "cell_type": "markdown",
   "metadata": {},
   "source": [
    "## Reporting\n",
    "Surefire: plugin that provide test report and report on test coverage\n",
    "\n",
    "to generage report run this command"
   ]
  },
  {
   "cell_type": "raw",
   "metadata": {},
   "source": [
    "%%bash\n",
    "mvn clean package site "
   ]
  },
  {
   "cell_type": "markdown",
   "metadata": {},
   "source": [
    "Report is found in the target/site folder"
   ]
  },
  {
   "cell_type": "markdown",
   "metadata": {},
   "source": [
    "# Parent POM\n",
    "A parent POM is a POM file that is stand-alone, meaning that there is no code associated with it. That creates a list of dependency versions and plugin versions that the subordiante projects can leverage.\n",
    "\n",
    "That provides a way to control versions in one place so the subordinate prject don't have to specify the version, only the dependency.\n",
    "\n",
    "In addition to dependencies and plugin, parent POMs can provide properties and repositories.\n",
    "\n",
    "- Provided versioned dependencies and plugins\n",
    "- Properties and repositories\n",
    "- Top-level visibility for approved artifacts\n",
    "\n",
    "parent package type must be POM\n",
    "\n",
    "## Reactors\n",
    "Reactor builds on the concept of parent POM\n",
    "- reactor is used to build a group of related projects through the use of the parent POM.\n",
    "- Maven command are executed on the parent and the reactor executes the command on each module or artifact in the reactor in such a way \n",
    "\n",
    "## Structure"
   ]
  },
  {
   "cell_type": "raw",
   "metadata": {},
   "source": [
    "root/\n",
    "│\n",
    "│\n",
    "└───pom.xml\n",
    "│         \n",
    "|\n",
    "└───module/\n",
    "|        │\n",
    "|        └───pom.xml\n",
    "│         \n",
    "|\n",
    "└───module/\n",
    "|        │\n",
    "|        └───pom.xml\n",
    "|\n",
    "└───module/\n",
    "         │\n",
    "         └───pom.xml"
   ]
  },
  {
   "cell_type": "markdown",
   "metadata": {},
   "source": [
    "## Archetype\n",
    "Archetype is a project template using maven\n",
    "- Specified when starting a project\n",
    "- Consistent artifact on tems\n",
    "- Project of their own\n",
    "\n",
    "Use Cases\n",
    "- Package structures of artifacts\n",
    "- Consistent standards and structures\n",
    "- Speed to market\n",
    "- Consistent resources"
   ]
  },
  {
   "cell_type": "markdown",
   "metadata": {},
   "source": [
    "# Build Lifecycle\n",
    "Made up of 3 lifecycles:\n",
    "- Default: main lifecycle for project build and deployment\n",
    "- Clean: cleans project, specifically the target directory\n",
    "- Site: generates project documentation\n",
    "\n",
    "Each lifecycle is made of phases\n",
    "\n",
    "## Phases\n",
    "A phases is a stage or a step in the lifecycle\n",
    "\n",
    "Default Lifecycle phases\n",
    "- validate\n",
    "- compile\n",
    "- test\n",
    "- package\n",
    "- verify\n",
    "- install\n",
    "- deploy\n",
    "\n",
    "Phases execute in order, phases are made up of goals.\n",
    "\n",
    "### Goal\n",
    "Goals are individual tasks within a phase.\n",
    "- Goals of a plugin are bound to a phase in a lifecycle\n",
    "- Goals can be triggered on plugins individually\n",
    "- - Eg. mvn dependency:analyze\n",
    "- - Dependency plugin has a dependency analyze goal, this can be triggered on the project from the command line."
   ]
  },
  {
   "cell_type": "markdown",
   "metadata": {},
   "source": [
    "## Build Plugins\n",
    "Most utilized plugins in the Maven build lifecycles\n",
    "- Build plugins are part of all lifecycles in some part\n",
    "- You can read about plugin on https://maven.apache.org/plugins/index.html\n",
    "\n",
    "There are 3 types of plugins\n",
    "- Core\n",
    "- Packaging\n",
    "- Tools\n",
    "\n",
    "### Core\n",
    "Most used plugin\n",
    "- Compilation: is responsible for using the JDK to compile the source code into byte code\n",
    "- Install: taking packaged artifacts and install it into the local M2 repository\n",
    "- Deploy: taking the packaged artifact and push it to a remote repository\n",
    "- Validation: validating source code\n",
    "\n",
    "### Packaging\n",
    "Taking the compiled bytecode and packaging it into a structure that can be consumed by JVM or any Java system like application server.\n",
    "- JAR: default packaging plugin, produce jar file that can be loaded by a class loader of the JVM\n",
    "- WAR: is a package that can be consumed by web application servers, like Tomcat to run an application\n",
    "- EAR: Enterprise archive consists of multiple JARs, WARs, EJBs. Used for large enterprise application servers.\n",
    "- SHADE: is a special JAR file that includes all of the classes from your code as well as the dependency classes you need for a Uber-Jar, this becomes and executable jar that is self-contained to ease portability. This is technically a packaging plugin, it is not one that you can specify in the package blocks\n",
    "\n",
    "### Tools\n",
    "- Variety of uses\n",
    "- Release: where an artifact is stamped with the version, deployed, SEM is tagged, and the version is incremented\n",
    "- Signing: signing JARs to prevent tempering\n",
    "- Dependency: build tool that copies, analyzes and build trees of dependencies"
   ]
  },
  {
   "cell_type": "markdown",
   "metadata": {},
   "source": [
    "## Build: Core Plugins\n",
    "Most used plugin used within Maven are core plugins. You can read about it on the apache maven website https://maven.apache.org/plugins.\n",
    "To implement the plugins, go to usage for that plugin.\n",
    "\n",
    "### Compiler Plugin\n",
    "Is responsible forthe compilation of your source code.\n",
    "The goals for the Compiler Plugin are bound to their respective phase in the build lifecycle. So to compile your sources, you need only to tell maven until which lifecycle to execute. The following will compile your sourcew.\n",
    "\n",
    "```\n",
    "mvn compile\n",
    "```\n",
    "\n",
    "To test your sources\n",
    "\n",
    "```\n",
    "mvn test-compile\n",
    "```\n",
    "\n",
    "The above command will execute both `compiler:compile` and `compiler:testCompile` since the `compile` phase happens a few phases before the `text-compile` phase.\n",
    "\n",
    "#### Configureing your Compiler Plugin\n",
    "Since the Compiler Plugin executes automaticlly during their phases, you don't have to put executioins unlike many other plugins. However, you should specify the version of the Compiler Plugin."
   ]
  },
  {
   "cell_type": "raw",
   "metadata": {},
   "source": [
    "<project>\n",
    "    ...\n",
    "    <build>\n",
    "        <pluginManagement>\n",
    "            <plugins>\n",
    "                <plugin>\n",
    "                    <groupId>org.apache.maven.plugins</groupId>\n",
    "                    <artifactId>maven-compiler-plugin</artifactId>\n",
    "                    <version>3.8.1</version>\n",
    "                    <configuration>\n",
    "                        <!-- put your configurations here -->\n",
    "                    </configuration>\n",
    "                </plugin>\n",
    "            </plugins>\n",
    "        </pluginManagement>\n",
    "    </build>\n",
    "    ...\n",
    "</project>"
   ]
  },
  {
   "cell_type": "markdown",
   "metadata": {},
   "source": [
    "pluginManagement is how your specify for a parent POM, you can drop this configuration in the parent POM and it will use this plugin to compile for the subordinate artifacts."
   ]
  },
  {
   "cell_type": "markdown",
   "metadata": {},
   "source": [
    "### Deploy Plugin\n",
    "When you want to add your compiled artifacts to a remote repository for sharing with other developers and projects.\n",
    "If you are working on an open source project, this is how you deploy your code to Maven's Central repository.\n",
    "\n",
    "Usage\n",
    "- The Deploy Plugin has 2 basic funcitons. In most builds, the `deploy` phase of the build lifecycle is implemented using the `deploy:deploy` mojo. Also, artifacts which are not build using Maven can be added to any remote repository using the `deploy:deploy-file` mojo.\n",
    "\n",
    "#### The `deploy:deploy` Mojo\n",
    "In most cases, this mojo is invoded when you call the `deploy` phase of the default build lifecycle.\n",
    "To enable this mojo to function, you must include a valid `<distributionManagement/>` section in your POM, which at the minnimum provides a `<reposigory/>` defining the remote repository location for your artifact. To separate snapslhot artifuacts from release artifacts, you can also specify a `<snapshotRepository/>` location. Finally to deploy a porject website, you must specify a `<site/>` section here as well. It's also important to not that this section can be inherited, allowing you to specify the deployment location one time for a set of related projects.\n",
    "\n",
    "If your repository is secured, you may also want to configure your `settings.xml` file to define correspoinding `<servers/>` entries which provides authentication information. Server entries are matched to the differetn parts of the distributionManagement using their `<ids/>` elements. For example, your project may have a distributionManagement section similar to the following:"
   ]
  },
  {
   "cell_type": "raw",
   "metadata": {},
   "source": [
    "[...]\n",
    "    <distributionManagement>\n",
    "        <repository>\n",
    "            <id>internal.repo</id>\n",
    "            <name>MyCo Internal Repository</name>\n",
    "            <url>Host to Company Repository</url>\n",
    "        </repository>\n",
    "    </distributionManagement>\n",
    "[...]"
   ]
  },
  {
   "cell_type": "markdown",
   "metadata": {},
   "source": [
    "In this case, you can specify a server definition in your `settings.xml` to provide authentication information for both of these repositories at once. Your server section might look like this:"
   ]
  },
  {
   "cell_type": "raw",
   "metadata": {},
   "source": [
    "[...]\n",
    "    <server>\n",
    "        <id>internal.repo</id>\n",
    "        <username>maven</username>\n",
    "        <password>foobar</password>\n",
    "    </server>\n",
    "[...]"
   ]
  },
  {
   "cell_type": "markdown",
   "metadata": {},
   "source": [
    "Once your repository deployment information has been configured, deployign oyour project's artifect will only require invocation of the `deploy` phase of the build.\n",
    "\n",
    "```\n",
    "mvn deploy\n",
    "```"
   ]
  },
  {
   "cell_type": "raw",
   "metadata": {},
   "source": [
    "#### The `deploy:deploy-file` Mojo\n",
    "The `deploy:deploy-file` mojo is uded primary for deploying artifacts to which was not build by Maven. "
   ]
  },
  {
   "cell_type": "markdown",
   "metadata": {},
   "source": [
    "### Resources Plugin\n",
    "Responsible for copying all the files from your resources or files elsewhere on your system and putting them into your package artifacts.\n",
    "By default, the resources folder from the standard Maven Java package structure gets automatically copied out of the resources folder into your JAR for consumption. You get the same behavior on the test class loader by using test resources. You an do all kinds of custom copying "
   ]
  },
  {
   "cell_type": "markdown",
   "metadata": {},
   "source": [
    "## Tools Plugin\n",
    "The Tools Plugin is the most configuration-heavy of all Maven plugins.\n",
    "\n",
    "### Dependency Plugin\n",
    "The dependency plugin provides the capability to manipulate artifacts. It can copy and/or unpack artifacts from local or remote repositories to a specified location.\n",
    "\n",
    "\n",
    "Usage\n",
    "\n",
    "\n",
    "#### `dependency:copy`\n",
    "This goal is meant to be bound to a lifecycle phase and configure in your `pom.xml`. It will resolve the artifact from the repository and place a copy in the specified location. Multiple artifacts can be defined in a single execution. A default output directory is specified but can be overridden by each ArtifactItem by setting the optional outputDirectory field . An optional new item can be set to rename or the version stripped while copying.\n",
    "\n",
    "The artifact version is optional. If not set, the plugin will attempt to resolve it from the project dependencies and then the dependencyManagement section.\n",
    "\n",
    "Configure the plugin like this if you tend to bind it to execute along with your build."
   ]
  },
  {
   "cell_type": "raw",
   "metadata": {},
   "source": [
    "<project>\n",
    "    [...]\n",
    "    <build>\n",
    "        <plugings>\n",
    "            <plugin>\n",
    "                <groupId>org.apache.maven.plugins</groupId>\n",
    "                <artifactId>maven-dependency-plugin</artifactId>\n",
    "                <version>3.2.0</version>\n",
    "                <executions>\n",
    "                    <execution>\n",
    "                        <id>copy</id>\n",
    "                        <phase>package</phase>\n",
    "                        <goals>\n",
    "                            <goal>copy</goal>\n",
    "                        </goals>\n",
    "                        <configuration>\n",
    "                            <artifactItems>\n",
    "                                <artifactItem>\n",
    "                                    <groupId>[ groupId ]</groupId>\n",
    "                                    <artifactId>[ artifactId ]</artifactId>\n",
    "                                    <version>[ version ]</version>\n",
    "                                    <type>[ packaging ]</type>\n",
    "                                    <classifier> [classifier - optional] </classifier>\n",
    "                                    <overWrite>[ true or false ]</overwrite>\n",
    "                                    <outputDirectory>[ output directory ]</outputDirectory>\n",
    "                                    <destFileName>[ filename ]</destFileName>\n",
    "                                </artifactItem>\n",
    "                            </artifactItems>\n",
    "                            <!-- other configurations here -->\n",
    "                        </configuration>\n",
    "                    </execution>\n",
    "                </executions>\n",
    "            </plugin>\n",
    "        </plugins>\n",
    "    </build>\n",
    "    [...]\n",
    "</project>                  "
   ]
  },
  {
   "cell_type": "markdown",
   "metadata": {},
   "source": [
    "#### Release Plugin\n",
    "\n",
    "The Release Plugin is a tool that allows you to build a project and release it. And by releasing it, it's doing serveral things.\n",
    "- It is manipulating the version\n",
    "- Tagging versions in SCM\n",
    "- Releasing in to your organization's repository\n",
    "- Preparing the repository for next iteration.\n",
    "This release plugin is used alot in organizations that both manually tags artifacts as well as deploying code using CI/CD\n",
    "\n",
    "\n",
    "##### Prepare your prject to use the maven-release-plugin\n",
    "To be able to make a solid start with the maven-release-plugin, ther are 2 things you should include in your pom:\n",
    "- The `scm`-section with a `developerConnection`\n",
    "- the maven-release-plugin with a loacked version\n",
    "\n",
    "The `developerConnection` contains the URL of the Source Control Management system pointing to the folder containing this `pom.xml`. This URL is prefix with `scm:[scm-provider]` so the plugin can pick the right implementation for committing and tagging. "
   ]
  },
  {
   "cell_type": "raw",
   "metadata": {},
   "source": [
    "<project>\n",
    "    ...\n",
    "    <scm>\n",
    "        <developerConnection>srm:git:https://bitbucket.org/repos/myapplication/trunk/mycomponent/</developerConnection>\n",
    "    </scm>\n",
    "    \n",
    "    <build>\n",
    "        <plugins>\n",
    "            <plugin>\n",
    "                <groupId>org.apache.maven.plugins</groupId>\n",
    "                <artifactId>maven-release-plugin</artifactId>\n",
    "                <version>3.0.0-M4</version>\n",
    "            </plugin>\n",
    "        </plugins>\n",
    "        ...\n",
    "    </build>\n",
    "    ...\n",
    "</project>"
   ]
  },
  {
   "cell_type": "markdown",
   "metadata": {},
   "source": [
    "## Packaging Plugins\n",
    "Build packages are used every time a build occurs, but usually we don't do alot of extra configuration we jsut specify the package type.\n",
    "\n",
    "### EAR\n",
    "Plugin Java EE Enterprise Archive (EAR) file, EAR is used for large scale J2EE or Jakarta EE deployments. Teh EAR files allowws you to put other packages in them.\n",
    "- jar\n",
    "- ejbs\n",
    "- wars\n",
    "- rars\n",
    "- ...\n",
    "\n",
    "Configuration of the EAR Plugin "
   ]
  },
  {
   "cell_type": "raw",
   "metadata": {},
   "source": [
    "<project>\n",
    "    [...]\n",
    "    <build>\n",
    "        [...]\n",
    "        <plugins>\n",
    "            [...]\n",
    "            <plugin>\n",
    "                <artifactId>maven-ear-plugin</artifactId>\n",
    "                <version>3.2.0</version>\n",
    "                <configuration>\n",
    "                    <!-- configuration elements goes here -->\n",
    "                </configuration>\n",
    "            </plugin>\n",
    "            [...]\n",
    "        </plugins>\n",
    "       [...]\n",
    "    </build>\n",
    "    [...]\n",
    "</project>"
   ]
  },
  {
   "cell_type": "markdown",
   "metadata": {},
   "source": [
    "This will get executed when you execute packaging and the packaging of your artifact is EAR."
   ]
  },
  {
   "cell_type": "markdown",
   "metadata": {},
   "source": [
    "### WAR\n",
    "The WAR Plugin is responsible for collecting all artifact dependiencies, classes and resources of the web applicatio nand packaging them into a web application archive.\n",
    "A WAR file is a web archive. A web archive executes on an application server, specifically a web application server.\n",
    "\n",
    "#### Usage\n",
    "There are 4 ways to use the WAR Plugin:\n",
    "- using the `package` phase and the project package type as `war`\n",
    "- invocation of the `war:war` goal\n",
    "- invocation of the `war:explode` goal\n",
    "- invocation of the `war:inplace` goal\n",
    "\n",
    "Whe nusing the `war:` goals it is assumed that the `compile` phase is already donee. The WARPlugin is not responsible for compiling the java sources or copying the resoureces.\n",
    "\n",
    "#### Using the `package` phase with the project package type as war / invocation of the `war:war` goal"
   ]
  },
  {
   "cell_type": "raw",
   "metadata": {},
   "source": [
    "<projejct>\n",
    "    ...\n",
    "    <groupId>com.example.projects</groupId>\n",
    "    <artifactId>documentedproject</artifactId>\n",
    "    <packaging>war</packaging>\n",
    "    <version>1.0-SNAPSHOT</version>\n",
    "    <name>Documented Project</name>\n",
    "    <url>http://example.com</url>\n",
    "    ...\n",
    "</project>"
   ]
  },
  {
   "cell_type": "markdown",
   "metadata": {},
   "source": [
    "The project's structure looks like this:"
   ]
  },
  {
   "cell_type": "raw",
   "metadata": {},
   "source": [
    "|-- pom.xml\n",
    "|-- src\n",
    "     |-- main\n",
    "           |-- java\n",
    "           |     |-- com\n",
    "           |           |-- example\n",
    "           |                  |-- projects\n",
    "           |                           |-- SampleAction.java\n",
    "           |\n",
    "           |-- resources\n",
    "           |       |-- images\n",
    "           |              |-- sampleimage.jpg\n",
    "           |\n",
    "           |-- webapp\n",
    "                  |-- WEB-INF\n",
    "                  |      |-- web.xml\n",
    "                  |-- index.jsp\n",
    "                  |-- jsp\n",
    "                        |-- websource.jsp"
   ]
  },
  {
   "cell_type": "markdown",
   "metadata": {},
   "source": [
    "Invoking\n",
    "\n",
    "```\n",
    "mvn package\n",
    "```\n",
    "\n",
    "or\n",
    "\n",
    "```\n",
    "mvn compile war:war\n",
    "```"
   ]
  },
  {
   "cell_type": "markdown",
   "metadata": {},
   "source": [
    "### JAR\n",
    "JAR files are the most commpon project that is built. You can get away with not specifying jar when packaging. A JAR file is a Java archive. You can run it as an application server, or embedded servers. You can customize a JAR file using the manifest.\n",
    "\n",
    "You can run embedded or web application servers through a JAR file, by shading the artifact/code into the JAR file.\n",
    "\n",
    "Building a Jar file"
   ]
  },
  {
   "cell_type": "raw",
   "metadata": {},
   "source": [
    "<project>\n",
    "    <modelVersion>4.0.0</modelVersion>\n",
    "    \n",
    "    <groupId>com.mycompany.project</groupId>\n",
    "    <artifactId>core</artifactId>\n",
    "    <version>1.0-SNAPSHOT</version>\n",
    "    <!-- <packaging>jar</packaging> -->\n",
    "</project>"
   ]
  },
  {
   "cell_type": "markdown",
   "metadata": {},
   "source": [
    "Since `jar` is the default packaging type it is not required to set it in this case. Apart from the above you will normally want some real java source files which should be localted within `src/main/java`. If you need extra resources on your classpath (for example property file) they should be located in `src/main/resouces`. Now we can create a JAR-file by using the command below:\n",
    "\n",
    "```\n",
    "mvn package\n",
    "```\n",
    "\n",
    "The `package` phase is always responsible for bundling all the files in the artifact, in this cas a JAR-file.\n",
    "In your project's `target` directory you'll see the generated jar file which is named like :'core-1.0-SNAPSHOT.jar'. The resulting 'jar' file contains the compiled java class files as well as the files from `src/main/resources`."
   ]
  },
  {
   "cell_type": "markdown",
   "metadata": {},
   "source": [
    "#### Manifest\n",
    "\n",
    "##### Add a Class-Path Entry to the Manifest\n",
    "Maven Archiver can add the classpath of your project to the manifest. It is done with the `<addClasspath>` configuration element."
   ]
  },
  {
   "cell_type": "raw",
   "metadata": {},
   "source": [
    "<project>\n",
    "    ...\n",
    "    <build>\n",
    "        <plugins>\n",
    "            <plugin>\n",
    "                <groupId>org.apache.maven.plugins</groupId>\n",
    "                <artifactId>maven-jar-plugin</artifactId>\n",
    "                ...\n",
    "                <configuration>\n",
    "                    <archive>\n",
    "                        <manifest>\n",
    "                            <addClasspath>true</addClasspath>\n",
    "                        </manifest>\n",
    "                    </archive>\n",
    "                </configuration>\n",
    "                ...\n",
    "            </plugin>\n",
    "        </plugins>\n",
    "    </build>\n",
    "    ...\n",
    "</project>"
   ]
  },
  {
   "cell_type": "markdown",
   "metadata": {},
   "source": [
    "#### Make the Jar Executable\n",
    "If you want to create an executable jar file, you need to configure Maven Archiver accordingly. You need to tell it which main class to use. This is done with the `<mainClass>` configuration element."
   ]
  },
  {
   "cell_type": "raw",
   "metadata": {},
   "source": [
    "<project>\n",
    "    ...\n",
    "    <build>\n",
    "        <plugins>\n",
    "            <plugin>\n",
    "                <groupId>org.apache.maven.plugins</groupId>\n",
    "                <artifactId>maven-jar-plugin</artifactId>\n",
    "                ...\n",
    "                <configuration>\n",
    "                    <archive>\n",
    "                        <manifest>\n",
    "                            <addClasspath>true</addClasspath>\n",
    "                            <mainClass>fully.qualified.MainClass</mainClass>\n",
    "                        </manifest>\n",
    "                    </archive>\n",
    "                </configuration>\n",
    "                ...\n",
    "            </plugin>\n",
    "        </plugins>\n",
    "    </build>\n",
    "    ...\n",
    "</project>"
   ]
  },
  {
   "cell_type": "markdown",
   "metadata": {},
   "source": [
    "## Dependency Scope\n",
    "Dependency Scope must be understood to prevent isues with how artifacts are packaged.\n",
    "\n",
    "### Compile Scope\n",
    "- Default scope for all dependencies if not otherwise specified\n",
    "- Compile dependency is always available in all ClassPath loarders that the artifacts is in or goes through.\n",
    "- Compile dependency is propagated to other dependency trees whe nthe artifact specifying it as a dependency in another artifact. This is called a transity dependency\n",
    "- Transitive dependency type is the most common dependency type.\n",
    "\n",
    "### Provided Scope\n",
    "- Similar to compile scope.\n",
    "- The difference with compile scope is in packaging and operations. When the artifact is packaged, we will not see the provided dependency in the WAR but instead are expecting th applicatio nserver or a runtime to the provided dependency\n",
    "- Provided by the container, not the packaging\n",
    "- Only available on runtime and test classpath\n",
    "- These dependency is not transitivice.\n",
    "\n",
    "\n",
    "### Runtime Scope\n",
    "- Only needed for execution\n",
    "- Not needed for compilation\n",
    "- Exists in runtime and test classpaths, when the code is actually executed\n",
    "\n",
    "### Test Scope\n",
    "- Only needed for testing, to reduce the size of the artifacts\n",
    "- Test compilation and execution classpaths\n",
    "- Unit test frameworks\n",
    "- Not transitives"
   ]
  },
  {
   "cell_type": "markdown",
   "metadata": {},
   "source": [
    "## Transitive Dependencies\n",
    "- Transitive dependency is a dependencies of a dependencies ....\n",
    "- Reduce the scope of declaring dependencies., only focusing on those that you know about\n",
    "- This reduce the need to know the inner workings of libraries\n",
    "- Reduce the risk of ugrating, by isolating you from changes when upgrading version\n",
    "\n",
    "### Rules\n",
    "- Closest version, when 2 versions of the same artifact is needed, the one that is closest to the actual dependency wins\n",
    "- Dependency management beat closer version, if there is a a dependency management defined in your POM.xml and the artifact is there it will be the version chosen.\n",
    "- Scope can play a role in what is included\n",
    "- Local definition rules them all\n",
    "\n",
    "Tricks\n",
    "- Only declare what you need\n",
    "- Validate scope\n",
    "- Consider parent POMs to control versions\n",
    "- Always declare when risk of breaking\n",
    "- Always declare when rick of security"
   ]
  },
  {
   "cell_type": "markdown",
   "metadata": {},
   "source": [
    "## Uber Jars\n",
    "An Uber/Shaded Jar is a special build and packaging routine that manage dependencies along with packaging or build.\n",
    "- Uber/Shaded Jar is a War file that run outside of a web container, this is not exactly true but a good analogy\n",
    "- Contains all source code that you need for your application, just like a war\n",
    "- Contains all libraries/dependencies you need to run your application\n",
    "- Can be executable, unlike a war\n",
    "\n",
    "```\n",
    "mvn clean package\n",
    "mvn tf target/<projectname>.jar"
   ]
  }
 ],
 "metadata": {
  "kernelspec": {
   "display_name": "Java",
   "language": "java",
   "name": "java"
  },
  "language_info": {
   "codemirror_mode": "java",
   "file_extension": ".jshell",
   "mimetype": "text/x-java-source",
   "name": "Java",
   "pygments_lexer": "java",
   "version": "11.0.8+10-LTS"
  }
 },
 "nbformat": 4,
 "nbformat_minor": 4
}
